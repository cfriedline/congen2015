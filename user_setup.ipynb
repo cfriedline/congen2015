{
 "cells": [
  {
   "cell_type": "code",
   "execution_count": 2,
   "metadata": {
    "collapsed": true
   },
   "outputs": [],
   "source": [
    "import os, shutil, sys\n",
    "from IPython.nbformat import v4"
   ]
  },
  {
   "cell_type": "code",
   "execution_count": 4,
   "metadata": {
    "collapsed": false
   },
   "outputs": [],
   "source": [
    "home = \"/gdc_home4/cfried\"\n",
    "ipython = os.path.join(home, \"ipython\")\n",
    "user_file = os.path.join(home, \"users.txt\")\n",
    "users = [x.strip() for x in open(user_file).readlines()][:-1]"
   ]
  },
  {
   "cell_type": "code",
   "execution_count": 11,
   "metadata": {
    "collapsed": false
   },
   "outputs": [],
   "source": [
    "ipynb_files = !ls . | grep ipynb | grep '^[0-9]'\n",
    "ipynb_files = [os.path.join(\".\", x) for x in ipynb_files]"
   ]
  },
  {
   "cell_type": "code",
   "execution_count": 12,
   "metadata": {
    "collapsed": false
   },
   "outputs": [
    {
     "data": {
      "text/plain": [
       "['./1_dataloader.ipynb',\n",
       " './2_population_structure.ipynb',\n",
       " './3_correction_for_population_structure.ipynb',\n",
       " './4_environmental_associations.ipynb',\n",
       " './5_polygenic_signal.ipynb']"
      ]
     },
     "execution_count": 12,
     "metadata": {},
     "output_type": "execute_result"
    }
   ],
   "source": [
    "ipynb_files"
   ]
  },
  {
   "cell_type": "code",
   "execution_count": 13,
   "metadata": {
    "collapsed": true
   },
   "outputs": [],
   "source": [
    "root_dir = \"/gdc_home5/groups/congenomics/day5/\""
   ]
  },
  {
   "cell_type": "code",
   "execution_count": 14,
   "metadata": {
    "collapsed": false
   },
   "outputs": [],
   "source": [
    "#!cp -rf /gdc_home4/cfried/src/PolygenicAdaptationCode {root_dir}"
   ]
  },
  {
   "cell_type": "code",
   "execution_count": 32,
   "metadata": {
    "collapsed": false
   },
   "outputs": [],
   "source": [
    "def strip_output(nb):\n",
    "    for cell in nb.cells:\n",
    "        if 'outputs' in cell:\n",
    "            cell['outputs'] = []\n",
    "        if 'execution_count' in cell:\n",
    "            cell['execution_count'] = 0\n",
    "    return nb\n",
    "\n",
    "# if __name__ == '__main__':\n",
    "#     nb = v4.reads(sys.stdin.read())\n",
    "#     nb = strip_output(nb)\n",
    "#     sys.stdout.write(v4.writes(nb))\n",
    "\n",
    "def copy_ipynb(user_dir):\n",
    "    for ipynb in ipynb_files:\n",
    "        nbdata = v4.reads(open(ipynb).read())\n",
    "        nb = strip_output(nbdata)\n",
    "        nbname = os.path.basename(ipynb)\n",
    "        outfile = os.path.join(user_dir, nbname)\n",
    "        out = open(outfile, \"w\")\n",
    "        out.write(v4.writes(nb))\n",
    "        \n",
    "        \n",
    "def copy_bayenv(user_dir):\n",
    "    f = \"bayenv.zip\"\n",
    "    !cp -f {f} {user_dir}\n",
    "\n",
    "def make_squat_symlink(user_dir):\n",
    "    if not os.path.exists(os.path.join(user_dir, \"Scripts\")):\n",
    "        !ln -s {os.path.join(root_dir, \"PolygenicAdaptationCode/Scripts\")} \\\n",
    "        {os.path.join(user_dir, \"Scripts\")}\n",
    "    \n",
    "def unzip_bayenv(user_dir, o):\n",
    "    o.write(\"cd %s && rm -rf bayenv && unzip -q bayenv.zip\\n\" % user_dir)\n",
    "    \n",
    "def copy_hdfhelper(user_dir):\n",
    "    !cp hdfstorehelper.py {user_dir}\n",
    "    \n",
    "def copy_tw(user_dir):\n",
    "    !cp /gdc_home4/cfried/ipython/tw* {user_dir}\n",
    "    \n",
    "def copy_r_data(user_dir):\n",
    "    !cp /gdc_home4/cfried/ipython/*.rds {user_dir}"
   ]
  },
  {
   "cell_type": "code",
   "execution_count": 38,
   "metadata": {
    "collapsed": false
   },
   "outputs": [
    {
     "name": "stdout",
     "output_type": "stream",
     "text": [
      "/gdc_home5/groups/congenomics/day5/kwest\n",
      "/gdc_home5/groups/congenomics/day5/novert\n",
      "/gdc_home5/groups/congenomics/day5/vwarmu\n",
      "/gdc_home5/groups/congenomics/day5/mluper\n",
      "/gdc_home5/groups/congenomics/day5/delei\n",
      "/gdc_home5/groups/congenomics/day5/tmatt\n",
      "/gdc_home5/groups/congenomics/day5/atigano\n",
      "/gdc_home5/groups/congenomics/day5/kdavies\n",
      "/gdc_home5/groups/congenomics/day5/ifragata\n",
      "/gdc_home5/groups/congenomics/day5/tbray\n",
      "/gdc_home5/groups/congenomics/day5/afoote\n",
      "/gdc_home5/groups/congenomics/day5/glins\n",
      "/gdc_home5/groups/congenomics/day5/aruiz\n",
      "/gdc_home5/groups/congenomics/day5/pfranch\n",
      "/gdc_home5/groups/congenomics/day5/matschin\n",
      "/gdc_home5/groups/congenomics/day5/tjanicke\n",
      "/gdc_home5/groups/congenomics/day5/emoreno\n",
      "/gdc_home5/groups/congenomics/day5/achatur\n",
      "/gdc_home5/groups/congenomics/day5/pfrandsen\n",
      "/gdc_home5/groups/congenomics/day5/chriscla\n",
      "/gdc_home5/groups/congenomics/day5/rduenner\n",
      "/gdc_home5/groups/congenomics/day5/mluerig\n",
      "/gdc_home5/groups/congenomics/day5/scrameri\n",
      "/gdc_home5/groups/congenomics/day5/jbuckley\n",
      "/gdc_home5/groups/congenomics/day5/jstephens\n",
      "/gdc_home5/groups/congenomics/day5/umessmer\n",
      "/gdc_home5/groups/congenomics/day5/awidmer\n",
      "/gdc_home5/groups/congenomics/day5/sfior\n",
      "/gdc_home5/groups/congenomics/day5/mfischer\n",
      "/gdc_home5/groups/congenomics/day5/alexjvr\n",
      "/gdc_home5/groups/congenomics/day5/szoller\n",
      "/gdc_home5/groups/congenomics/day5/jpuritz\n",
      "/gdc_home5/groups/congenomics/day5/egarr\n",
      "/gdc_home5/groups/congenomics/day5/syeaman\n",
      "/gdc_home5/groups/congenomics/day5/dweg\n",
      "/gdc_home5/groups/congenomics/day5/pvergeer\n",
      "/gdc_home5/groups/congenomics/day5/jouborg\n"
     ]
    }
   ],
   "source": [
    "with open(\"unzip_jobs.txt\", \"w\") as o:\n",
    "    for user in users:\n",
    "        if not 'cfried' in user:\n",
    "            user_dir = os.path.join(root_dir, user)\n",
    "            print user_dir\n",
    "            if not os.path.exists(user_dir):\n",
    "                os.mkdir(user_dir)\n",
    "            copy_ipynb(user_dir)\n",
    "            copy_hdfhelper(user_dir)\n",
    "            copy_tw(user_dir)\n",
    "            copy_r_data(user_dir)\n",
    "            copy_bayenv(user_dir)\n",
    "            make_squat_symlink(user_dir)\n",
    "            unzip_bayenv(user_dir, o)"
   ]
  },
  {
   "cell_type": "code",
   "execution_count": 36,
   "metadata": {
    "collapsed": false
   },
   "outputs": [
    {
     "name": "stdout",
     "output_type": "stream",
     "text": [
      "cd /gdc_home5/groups/congenomics/day5/kwest && rm -rf bayenv && unzip -q bayenv.zip\r\n",
      "cd /gdc_home5/groups/congenomics/day5/novert && rm -rf bayenv && unzip -q bayenv.zip\r\n",
      "cd /gdc_home5/groups/congenomics/day5/vwarmu && rm -rf bayenv && unzip -q bayenv.zip\r\n",
      "cd /gdc_home5/groups/congenomics/day5/mluper && rm -rf bayenv && unzip -q bayenv.zip\r\n",
      "cd /gdc_home5/groups/congenomics/day5/delei && rm -rf bayenv && unzip -q bayenv.zip\r\n",
      "cd /gdc_home5/groups/congenomics/day5/tmatt && rm -rf bayenv && unzip -q bayenv.zip\r\n",
      "cd /gdc_home5/groups/congenomics/day5/atigano && rm -rf bayenv && unzip -q bayenv.zip\r\n",
      "cd /gdc_home5/groups/congenomics/day5/kdavies && rm -rf bayenv && unzip -q bayenv.zip\r\n",
      "cd /gdc_home5/groups/congenomics/day5/ifragata && rm -rf bayenv && unzip -q bayenv.zip\r\n",
      "cd /gdc_home5/groups/congenomics/day5/tbray && rm -rf bayenv && unzip -q bayenv.zip\r\n",
      "cd /gdc_home5/groups/congenomics/day5/afoote && rm -rf bayenv && unzip -q bayenv.zip\r\n",
      "cd /gdc_home5/groups/congenomics/day5/glins && rm -rf bayenv && unzip -q bayenv.zip\r\n",
      "cd /gdc_home5/groups/congenomics/day5/aruiz && rm -rf bayenv && unzip -q bayenv.zip\r\n",
      "cd /gdc_home5/groups/congenomics/day5/pfranch && rm -rf bayenv && unzip -q bayenv.zip\r\n",
      "cd /gdc_home5/groups/congenomics/day5/matschin && rm -rf bayenv && unzip -q bayenv.zip\r\n",
      "cd /gdc_home5/groups/congenomics/day5/tjanicke && rm -rf bayenv && unzip -q bayenv.zip\r\n",
      "cd /gdc_home5/groups/congenomics/day5/emoreno && rm -rf bayenv && unzip -q bayenv.zip\r\n",
      "cd /gdc_home5/groups/congenomics/day5/achatur && rm -rf bayenv && unzip -q bayenv.zip\r\n",
      "cd /gdc_home5/groups/congenomics/day5/pfrandsen && rm -rf bayenv && unzip -q bayenv.zip\r\n",
      "cd /gdc_home5/groups/congenomics/day5/chriscla && rm -rf bayenv && unzip -q bayenv.zip\r\n",
      "cd /gdc_home5/groups/congenomics/day5/rduenner && rm -rf bayenv && unzip -q bayenv.zip\r\n",
      "cd /gdc_home5/groups/congenomics/day5/mluerig && rm -rf bayenv && unzip -q bayenv.zip\r\n",
      "cd /gdc_home5/groups/congenomics/day5/scrameri && rm -rf bayenv && unzip -q bayenv.zip\r\n",
      "cd /gdc_home5/groups/congenomics/day5/jbuckley && rm -rf bayenv && unzip -q bayenv.zip\r\n",
      "cd /gdc_home5/groups/congenomics/day5/jstephens && rm -rf bayenv && unzip -q bayenv.zip\r\n",
      "cd /gdc_home5/groups/congenomics/day5/umessmer && rm -rf bayenv && unzip -q bayenv.zip\r\n",
      "cd /gdc_home5/groups/congenomics/day5/awidmer && rm -rf bayenv && unzip -q bayenv.zip\r\n",
      "cd /gdc_home5/groups/congenomics/day5/sfior && rm -rf bayenv && unzip -q bayenv.zip\r\n",
      "cd /gdc_home5/groups/congenomics/day5/mfischer && rm -rf bayenv && unzip -q bayenv.zip\r\n",
      "cd /gdc_home5/groups/congenomics/day5/alexjvr && rm -rf bayenv && unzip -q bayenv.zip\r\n",
      "cd /gdc_home5/groups/congenomics/day5/szoller && rm -rf bayenv && unzip -q bayenv.zip\r\n",
      "cd /gdc_home5/groups/congenomics/day5/jpuritz && rm -rf bayenv && unzip -q bayenv.zip\r\n",
      "cd /gdc_home5/groups/congenomics/day5/egarr && rm -rf bayenv && unzip -q bayenv.zip\r\n",
      "cd /gdc_home5/groups/congenomics/day5/syeaman && rm -rf bayenv && unzip -q bayenv.zip\r\n",
      "cd /gdc_home5/groups/congenomics/day5/dweg && rm -rf bayenv && unzip -q bayenv.zip\r\n",
      "cd /gdc_home5/groups/congenomics/day5/cfried && rm -rf bayenv && unzip -q bayenv.zip\r\n",
      "cd /gdc_home5/groups/congenomics/day5/pvergeer && rm -rf bayenv && unzip -q bayenv.zip\r\n",
      "cd /gdc_home5/groups/congenomics/day5/jouborg && rm -rf bayenv && unzip -q bayenv.zip\r\n"
     ]
    }
   ],
   "source": [
    "!cat unzip_jobs.txt"
   ]
  },
  {
   "cell_type": "code",
   "execution_count": null,
   "metadata": {
    "collapsed": true
   },
   "outputs": [],
   "source": []
  }
 ],
 "metadata": {
  "kernelspec": {
   "display_name": "Python 2",
   "language": "python",
   "name": "python2"
  },
  "language_info": {
   "codemirror_mode": {
    "name": "ipython",
    "version": 2
   },
   "file_extension": ".py",
   "mimetype": "text/x-python",
   "name": "python",
   "nbconvert_exporter": "python",
   "pygments_lexer": "ipython2",
   "version": "2.7.9"
  }
 },
 "nbformat": 4,
 "nbformat_minor": 0
}
