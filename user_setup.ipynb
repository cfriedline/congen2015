{
 "cells": [
  {
   "cell_type": "code",
   "execution_count": 0,
   "metadata": {
    "collapsed": true
   },
   "outputs": [],
   "source": [
    "import os, shutil, sys\n",
    "from IPython.nbformat import v4"
   ]
  },
  {
   "cell_type": "code",
   "execution_count": 0,
   "metadata": {
    "collapsed": false
   },
   "outputs": [],
   "source": [
    "home = \"/gdc_home4/cfried\"\n",
    "ipython = os.path.join(home, \"ipython\")\n",
    "user_file = os.path.join(home, \"users.txt\")\n",
    "users = [x.strip() for x in open(user_file).readlines()][:-1]"
   ]
  },
  {
   "cell_type": "code",
   "execution_count": 0,
   "metadata": {
    "collapsed": false
   },
   "outputs": [],
   "source": [
    "ipynb_files = !ls . | grep ipynb | grep '^[0-9]'\n",
    "ipynb_files = [os.path.join(\".\", x) for x in ipynb_files]"
   ]
  },
  {
   "cell_type": "code",
   "execution_count": 0,
   "metadata": {
    "collapsed": false
   },
   "outputs": [],
   "source": [
    "ipynb_files"
   ]
  },
  {
   "cell_type": "code",
   "execution_count": 0,
   "metadata": {
    "collapsed": true
   },
   "outputs": [],
   "source": [
    "root_dir = \"/gdc_home5/groups/congenomics/day5/\""
   ]
  },
  {
   "cell_type": "code",
   "execution_count": 0,
   "metadata": {
    "collapsed": false
   },
   "outputs": [],
   "source": [
    "#!cp -rf /gdc_home4/cfried/src/PolygenicAdaptationCode {root_dir}"
   ]
  },
  {
   "cell_type": "code",
   "execution_count": 0,
   "metadata": {
    "collapsed": false
   },
   "outputs": [],
   "source": [
    "def strip_output(nb):\n",
    "    for cell in nb.cells:\n",
    "        if 'outputs' in cell:\n",
    "            cell['outputs'] = []\n",
    "        if 'execution_count' in cell:\n",
    "            cell['execution_count'] = 0\n",
    "    return nb\n",
    "\n",
    "# if __name__ == '__main__':\n",
    "#     nb = v4.reads(sys.stdin.read())\n",
    "#     nb = strip_output(nb)\n",
    "#     sys.stdout.write(v4.writes(nb))\n",
    "\n",
    "def copy_ipynb(user_dir):\n",
    "    for ipynb in ipynb_files:\n",
    "        nbdata = v4.reads(open(ipynb).read())\n",
    "        nb = strip_output(nbdata)\n",
    "        nbname = os.path.basename(ipynb)\n",
    "        outfile = os.path.join(user_dir, nbname)\n",
    "        out = open(outfile, \"w\")\n",
    "        out.write(v4.writes(nb))\n",
    "        \n",
    "        \n",
    "def copy_bayenv(user_dir):\n",
    "    f = \"bayenv.zip\"\n",
    "    !cp -f {f} {user_dir}\n",
    "\n",
    "def make_squat_symlink(user_dir):\n",
    "    if not os.path.exists(os.path.join(user_dir, \"Scripts\")):\n",
    "        !ln -s {os.path.join(root_dir, \"PolygenicAdaptationCode/Scripts\")} \\\n",
    "        {os.path.join(user_dir, \"Scripts\")}\n",
    "    \n",
    "def unzip_bayenv(user_dir, o):\n",
    "    o.write(\"cd %s && rm -rf bayenv && unzip -q bayenv.zip\\n\" % user_dir)\n",
    "    \n",
    "def copy_hdfhelper(user_dir):\n",
    "    !cp hdfstorehelper.py {user_dir}\n",
    "    \n",
    "def copy_tw(user_dir):\n",
    "    !cp /gdc_home4/cfried/ipython/tw* {user_dir}\n",
    "    \n",
    "def copy_r_data(user_dir):\n",
    "    !cp /gdc_home4/cfried/ipython/*.rds {user_dir}"
   ]
  },
  {
   "cell_type": "code",
   "execution_count": 0,
   "metadata": {
    "collapsed": false
   },
   "outputs": [],
   "source": [
    "with open(\"unzip_jobs.txt\", \"w\") as o:\n",
    "    for user in users:\n",
    "        if not 'cfried' in user:\n",
    "            user_dir = os.path.join(root_dir, user)\n",
    "            print user_dir\n",
    "            if not os.path.exists(user_dir):\n",
    "                os.mkdir(user_dir)\n",
    "            copy_ipynb(user_dir)\n",
    "            copy_hdfhelper(user_dir)\n",
    "            copy_tw(user_dir)\n",
    "            copy_r_data(user_dir)\n",
    "            copy_bayenv(user_dir)\n",
    "            make_squat_symlink(user_dir)\n",
    "            unzip_bayenv(user_dir, o)"
   ]
  },
  {
   "cell_type": "code",
   "execution_count": 0,
   "metadata": {
    "collapsed": false
   },
   "outputs": [],
   "source": [
    "!cat unzip_jobs.txt"
   ]
  },
  {
   "cell_type": "code",
   "execution_count": 0,
   "metadata": {
    "collapsed": true
   },
   "outputs": [],
   "source": []
  }
 ],
 "metadata": {
  "kernelspec": {
   "display_name": "Python 2",
   "language": "python",
   "name": "python2"
  },
  "language_info": {
   "codemirror_mode": {
    "name": "ipython",
    "version": 2
   },
   "file_extension": ".py",
   "mimetype": "text/x-python",
   "name": "python",
   "nbconvert_exporter": "python",
   "pygments_lexer": "ipython2",
   "version": "2.7.9"
  }
 },
 "nbformat": 4,
 "nbformat_minor": 0
}