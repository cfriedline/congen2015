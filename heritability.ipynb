{
 "cells": [
  {
   "cell_type": "markdown",
   "metadata": {},
   "source": [
    "##Setup"
   ]
  },
  {
   "cell_type": "code",
   "execution_count": 0,
   "metadata": {
    "collapsed": false
   },
   "outputs": [],
   "source": [
    "import numpy as np\n",
    "import scipy as sp\n",
    "import pandas as pd\n",
    "import statsmodels as sm\n",
    "import matplotlib.pyplot as plt\n",
    "%matplotlib inline\n",
    "%config InlineBackend.figure_format = 'retina'\n",
    "import seaborn as sns\n",
    "sns.set_style(\"white\")\n",
    "sns.set_context(\"talk\", font_scale=1.2)"
   ]
  },
  {
   "cell_type": "markdown",
   "metadata": {},
   "source": [
    "##Generate and select parents ($n = 5000, \\mu = 50 \\pm 15$)"
   ]
  },
  {
   "cell_type": "code",
   "execution_count": 0,
   "metadata": {
    "collapsed": false
   },
   "outputs": [],
   "source": [
    "loc = 50\n",
    "scale = 15\n",
    "parent_heights = sp.random.normal(loc=loc, scale=scale, size=5000)\n",
    "selected_parents = [x for x in parent_heights if x > 55]\n",
    "len(selected_parents)"
   ]
  },
  {
   "cell_type": "code",
   "execution_count": 0,
   "metadata": {
    "collapsed": false
   },
   "outputs": [],
   "source": [
    "def plot_hist(d, title):\n",
    "    plt.hist(d)\n",
    "    plt.title(title)\n",
    "    sns.despine()\n",
    "    plt.show()"
   ]
  },
  {
   "cell_type": "code",
   "execution_count": 0,
   "metadata": {
    "collapsed": false
   },
   "outputs": [],
   "source": [
    "plot_hist(parent_heights, \"Parents ($\\mu=%.2f$)\" % np.mean(parent_heights))\n",
    "plot_hist(selected_parents, \"Selected ($\\mu=%.2f$)\" % np.mean(selected_parents))"
   ]
  },
  {
   "cell_type": "markdown",
   "metadata": {},
   "source": [
    "##Given heritibility of our trait, simulate offspring"
   ]
  },
  {
   "cell_type": "code",
   "execution_count": 0,
   "metadata": {
    "collapsed": false
   },
   "outputs": [],
   "source": [
    "h2 = 0.7\n",
    "offspring_heights = []\n",
    "\n",
    "def offspring_height(x):\n",
    "    d = sp.random.uniform(0, 0.2)\n",
    "    if sp.random.random() < 0.5:\n",
    "        return x - x*d\n",
    "    else:\n",
    "        return x + x*d\n",
    "\n",
    "for p in selected_parents:\n",
    "    r = sp.random.random()\n",
    "    if r < h2:\n",
    "        offspring_heights.append(offspring_height(p))\n",
    "    else:\n",
    "        offspring_heights.append(sp.random.normal(scale=scale, loc=loc))"
   ]
  },
  {
   "cell_type": "markdown",
   "metadata": {},
   "source": [
    "##Determine relationship between parents (selected) and their offspring"
   ]
  },
  {
   "cell_type": "code",
   "execution_count": 0,
   "metadata": {
    "collapsed": false
   },
   "outputs": [],
   "source": [
    "reg = sp.stats.linregress(selected_parents, \n",
    "                          offspring_heights)\n",
    "print reg\n",
    "slope, intercept, r_value, p_value, std_err = reg\n",
    "plt.scatter(selected_parents, offspring_heights)\n",
    "plt.xlabel(\"Parent height (cm)\")\n",
    "plt.ylabel(\"Offpring height (cm)\")\n",
    "plt.title(\"y=%.5fx + %.5f ($r^2$ = %.2f, $p$ = %.5f), n=%d\" % (slope, \n",
    "                                                         intercept, \n",
    "                                                         r_value**2,\n",
    "                                                         p_value,\n",
    "                                                         len(offspring_heights)))\n",
    "plt.plot(parent_heights,parent_heights*slope+intercept, 'r-')\n",
    "plt.xlim((55,120))\n",
    "sns.despine()\n",
    "plt.show()"
   ]
  },
  {
   "cell_type": "markdown",
   "metadata": {},
   "source": [
    "##$R = h^2S$"
   ]
  },
  {
   "cell_type": "code",
   "execution_count": 0,
   "metadata": {
    "collapsed": false
   },
   "outputs": [],
   "source": [
    "S = np.mean(selected_parents)-np.mean(parent_heights)\n",
    "S"
   ]
  },
  {
   "cell_type": "code",
   "execution_count": 0,
   "metadata": {
    "collapsed": false
   },
   "outputs": [],
   "source": [
    "R = slope*S\n",
    "R"
   ]
  },
  {
   "cell_type": "code",
   "execution_count": 0,
   "metadata": {
    "collapsed": false
   },
   "outputs": [],
   "source": [
    "new_mean = np.mean(parent_heights) + R\n",
    "new_mean"
   ]
  },
  {
   "cell_type": "code",
   "execution_count": 0,
   "metadata": {
    "collapsed": false
   },
   "outputs": [],
   "source": [
    "plot_hist(offspring_heights, \"Offspring ($\\mu=%.2f$)\" % np.mean(offspring_heights))\n"
   ]
  },
  {
   "cell_type": "code",
   "execution_count": 0,
   "metadata": {
    "collapsed": true
   },
   "outputs": [],
   "source": []
  }
 ],
 "metadata": {
  "gist_id": "96f92cef075385ea4d55",
  "kernelspec": {
   "display_name": "Python 2",
   "language": "python",
   "name": "python2"
  },
  "language_info": {
   "codemirror_mode": {
    "name": "ipython",
    "version": 2
   },
   "file_extension": ".py",
   "mimetype": "text/x-python",
   "name": "python",
   "nbconvert_exporter": "python",
   "pygments_lexer": "ipython2",
   "version": "2.7.9"
  }
 },
 "nbformat": 4,
 "nbformat_minor": 0
}