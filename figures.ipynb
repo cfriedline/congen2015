{
 "cells": [
  {
   "cell_type": "code",
   "execution_count": 0,
   "metadata": {
    "collapsed": false
   },
   "outputs": [],
   "source": [
    "import scipy as sp\n",
    "from scipy.stats import expon\n",
    "import numpy as np\n",
    "import seaborn as sns\n",
    "import matplotlib.pyplot as plt\n",
    "%matplotlib inline"
   ]
  },
  {
   "cell_type": "code",
   "execution_count": 0,
   "metadata": {
    "collapsed": true
   },
   "outputs": [],
   "source": [
    "sns.set()\n",
    "sns.set_style(\"dark\")\n",
    "sns.set_context(\"talk\")"
   ]
  },
  {
   "cell_type": "code",
   "execution_count": 0,
   "metadata": {
    "collapsed": false
   },
   "outputs": [],
   "source": [
    "x = np.linspace(expon.ppf(0.001), expon.ppf(0.999), 1000)"
   ]
  },
  {
   "cell_type": "code",
   "execution_count": 0,
   "metadata": {
    "collapsed": false
   },
   "outputs": [],
   "source": [
    "fig = plt.gcf()\n",
    "ax = plt.gca()\n",
    "plt.plot(x, expon.pdf(x, scale=0.5),'r-', lw=3, alpha=1, label='Rapid decay')\n",
    "plt.plot(x, expon.pdf(x, scale=1.75),'b-', lw=3, alpha=1, label='Slow decay')\n",
    "plt.ylabel(\"LD\")\n",
    "plt.xlabel(\"cM\")\n",
    "plt.legend(loc=10, fontsize='xx-large')\n",
    "D = \"x_{11} - [(x_{11}+x_{12})(x_{11}+x_{21})]\"\n",
    "plt.text(2, 1.5, \"$D' = \\\\frac{%s}{D_{max}}$\" % D, fontsize=25)\n",
    "sns.despine(top=True, right=True, trim=True)\n",
    "\n",
    "ax.set_xticklabels([])\n",
    "ax.set_yticklabels([])\n",
    "\n",
    "plt.savefig(\"ld_decay.pdf\")\n",
    "plt.show()"
   ]
  },
  {
   "cell_type": "code",
   "execution_count": 0,
   "metadata": {
    "collapsed": true
   },
   "outputs": [],
   "source": []
  }
 ],
 "metadata": {
  "kernelspec": {
   "display_name": "Python 2",
   "language": "python",
   "name": "python2"
  },
  "language_info": {
   "codemirror_mode": {
    "name": "ipython",
    "version": 2
   },
   "file_extension": ".py",
   "mimetype": "text/x-python",
   "name": "python",
   "nbconvert_exporter": "python",
   "pygments_lexer": "ipython2",
   "version": "2.7.9"
  }
 },
 "nbformat": 4,
 "nbformat_minor": 0
}