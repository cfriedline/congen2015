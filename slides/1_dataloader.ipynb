{
 "cells": [
  {
   "cell_type": "code",
   "execution_count": 61,
   "metadata": {
    "collapsed": false
   },
   "outputs": [
    {
     "name": "stdout",
     "output_type": "stream",
     "text": [
      "The rpy2.ipython extension is already loaded. To reload it, use:\n",
      "  %reload_ext rpy2.ipython\n"
     ]
    }
   ],
   "source": [
    "import os, sys\n",
    "from IPython.display import Image\n",
    "import pandas as pd\n",
    "from __future__ import division\n",
    "import numpy as np\n",
    "import rpy2\n",
    "from rpy2 import robjects as ro\n",
    "import pandas.rpy.common as com\n",
    "import matplotlib.pyplot as plt\n",
    "import seaborn as sns\n",
    "import operator\n",
    "import scipy as sp\n",
    "import traceback\n",
    "from sklearn import preprocessing\n",
    "from IPython.parallel import Client\n",
    "from subprocess import Popen, PIPE\n",
    "import shutil\n",
    "from IPython.display import FileLink, FileLinks, Image\n",
    "import psutil\n",
    "import multiprocessing\n",
    "from hdfstorehelper import HDFStoreHelper\n",
    "import warnings\n",
    "import pandas\n",
    "import dill\n",
    "warnings.simplefilter(\"ignore\", pandas.io.pytables.PerformanceWarning)\n",
    "%matplotlib inline\n",
    "\n",
    "%load_ext rpy2.ipython\n",
    "pd.set_option('display.width', 80)\n",
    "pd.set_option('max.columns', 30)\n",
    "\n",
    "sns.set_context(\"talk\")"
   ]
  },
  {
   "cell_type": "code",
   "execution_count": 65,
   "metadata": {
    "collapsed": false
   },
   "outputs": [
    {
     "name": "stdout",
     "output_type": "stream",
     "text": [
      "[u'melezitose']\n"
     ]
    }
   ],
   "source": [
    "traits = [x for x in pheno.columns if \"ose\" in str(x)]\n",
    "print traits\n",
    "trait_name = traits[-1]\n",
    "dill.dump(trait_name, open(\"cfried_trait_name.dill\", \"w\"))"
   ]
  },
  {
   "cell_type": "code",
   "execution_count": 12,
   "metadata": {
    "collapsed": false
   },
   "outputs": [],
   "source": [
    "pheno = pd.read_excel(\"/gdc_home4/cfried/landscape_genetics_data/Pinus_taeda_metabolite_data.xlsx\", \n",
    "                      sheetname=\"metabolite_phenotype_data\",\n",
    "                      header=2)\n",
    "pheno = pheno[['Longitude', 'Latitude','Clone_id',trait_name]]\n",
    "pheno.index = pheno.Clone_id\n",
    "pheno = pheno.drop('Clone_id', axis=1)\n",
    "pheno = pheno.astype(float)"
   ]
  },
  {
   "cell_type": "code",
   "execution_count": 13,
   "metadata": {
    "collapsed": false
   },
   "outputs": [],
   "source": [
    "data_ai = pd.read_excel(\"/gdc_home4/cfried/landscape_genetics_data/Genetics_2010/Eckert_Genetics_2010_data.xlsx\")\n",
    "data_gt = pd.read_excel(\"/gdc_home4/cfried/landscape_genetics_data/Genetics_2010/Eckert_Genetics_2010_data.xlsx\", \n",
    "                        sheetname=\"genotyping_data\")\n",
    "data_loc = pd.read_excel(\"/gdc_home4/cfried/landscape_genetics_data/Genetics_2010/Eckert_Genetics_2010_data.xlsx\",\n",
    "                         sheetname=\"county_locality\")"
   ]
  },
  {
   "cell_type": "code",
   "execution_count": 19,
   "metadata": {
    "collapsed": true
   },
   "outputs": [],
   "source": [
    "def add_county_state_key(df, c, s):\n",
    "    d = df.copy()\n",
    "    d['county_state'] = d.apply(lambda row: \"%s_%s\" % (row[c], row[s]), axis=1)\n",
    "    return d"
   ]
  },
  {
   "cell_type": "code",
   "execution_count": 22,
   "metadata": {
    "collapsed": false
   },
   "outputs": [
    {
     "data": {
      "text/html": [
       "<div style=\"max-height:1000px;max-width:1500px;overflow:auto;\">\n",
       "<table border=\"1\" class=\"dataframe\">\n",
       "  <thead>\n",
       "    <tr style=\"text-align: right;\">\n",
       "      <th></th>\n",
       "      <th>County</th>\n",
       "      <th>State</th>\n",
       "      <th>AI_Q1</th>\n",
       "      <th>AI_Q2</th>\n",
       "      <th>AI_Q3</th>\n",
       "      <th>AI_Q4</th>\n",
       "      <th>county_state</th>\n",
       "    </tr>\n",
       "  </thead>\n",
       "  <tbody>\n",
       "    <tr>\n",
       "      <th>0</th>\n",
       "      <td>      AIKEN</td>\n",
       "      <td> SC</td>\n",
       "      <td> 5.310381</td>\n",
       "      <td> 0.941023</td>\n",
       "      <td> 0.774065</td>\n",
       "      <td> 2.175380</td>\n",
       "      <td>      AIKEN_SC</td>\n",
       "    </tr>\n",
       "    <tr>\n",
       "      <th>1</th>\n",
       "      <td>   ANDERSON</td>\n",
       "      <td> SC</td>\n",
       "      <td> 7.833872</td>\n",
       "      <td> 1.034978</td>\n",
       "      <td> 0.754804</td>\n",
       "      <td> 2.920798</td>\n",
       "      <td>   ANDERSON_SC</td>\n",
       "    </tr>\n",
       "    <tr>\n",
       "      <th>2</th>\n",
       "      <td>      ANSON</td>\n",
       "      <td> NC</td>\n",
       "      <td> 5.763893</td>\n",
       "      <td> 0.889168</td>\n",
       "      <td> 0.818064</td>\n",
       "      <td> 2.488546</td>\n",
       "      <td>      ANSON_NC</td>\n",
       "    </tr>\n",
       "    <tr>\n",
       "      <th>3</th>\n",
       "      <td> APPOMATTOX</td>\n",
       "      <td> VA</td>\n",
       "      <td> 4.582158</td>\n",
       "      <td> 0.840920</td>\n",
       "      <td> 0.673995</td>\n",
       "      <td> 2.740322</td>\n",
       "      <td> APPOMATTOX_VA</td>\n",
       "    </tr>\n",
       "    <tr>\n",
       "      <th>4</th>\n",
       "      <td>     ASHLEY</td>\n",
       "      <td> AR</td>\n",
       "      <td> 6.927071</td>\n",
       "      <td> 1.191490</td>\n",
       "      <td> 0.671492</td>\n",
       "      <td> 3.429608</td>\n",
       "      <td>     ASHLEY_AR</td>\n",
       "    </tr>\n",
       "  </tbody>\n",
       "</table>\n",
       "</div>"
      ],
      "text/plain": [
       "       County State     AI_Q1     AI_Q2     AI_Q3     AI_Q4   county_state\n",
       "0       AIKEN    SC  5.310381  0.941023  0.774065  2.175380       AIKEN_SC\n",
       "1    ANDERSON    SC  7.833872  1.034978  0.754804  2.920798    ANDERSON_SC\n",
       "2       ANSON    NC  5.763893  0.889168  0.818064  2.488546       ANSON_NC\n",
       "3  APPOMATTOX    VA  4.582158  0.840920  0.673995  2.740322  APPOMATTOX_VA\n",
       "4      ASHLEY    AR  6.927071  1.191490  0.671492  3.429608      ASHLEY_AR"
      ]
     },
     "execution_count": 22,
     "metadata": {},
     "output_type": "execute_result"
    }
   ],
   "source": [
    "data_ai = add_county_state_key(data_ai, \"County\", \"State\")\n",
    "data_ai.ix[:,0:2] = data_ai.ix[:,0:2].astype(str)\n",
    "data_ai.ix[:,2:-1] = data_ai.ix[:,2:-1].astype(float)\n",
    "data_ai.head()"
   ]
  },
  {
   "cell_type": "code",
   "execution_count": 23,
   "metadata": {
    "collapsed": false
   },
   "outputs": [
    {
     "data": {
      "text/html": [
       "<div style=\"max-height:1000px;max-width:1500px;overflow:auto;\">\n",
       "<table border=\"1\" class=\"dataframe\">\n",
       "  <thead>\n",
       "    <tr style=\"text-align: right;\">\n",
       "      <th></th>\n",
       "      <th>county</th>\n",
       "      <th>state</th>\n",
       "      <th>lat</th>\n",
       "      <th>long</th>\n",
       "      <th>county_state</th>\n",
       "    </tr>\n",
       "  </thead>\n",
       "  <tbody>\n",
       "    <tr>\n",
       "      <th>0</th>\n",
       "      <td>     CHEROKEE</td>\n",
       "      <td> GA</td>\n",
       "      <td> 34.24000</td>\n",
       "      <td>-84.47000</td>\n",
       "      <td>     CHEROKEE_GA</td>\n",
       "    </tr>\n",
       "    <tr>\n",
       "      <th>1</th>\n",
       "      <td>       BARTOW</td>\n",
       "      <td> GA</td>\n",
       "      <td> 34.24000</td>\n",
       "      <td>-84.84000</td>\n",
       "      <td>       BARTOW_GA</td>\n",
       "    </tr>\n",
       "    <tr>\n",
       "      <th>2</th>\n",
       "      <td>       SUSSEX</td>\n",
       "      <td> VA</td>\n",
       "      <td> 36.92093</td>\n",
       "      <td>-77.28034</td>\n",
       "      <td>       SUSSEX_VA</td>\n",
       "    </tr>\n",
       "    <tr>\n",
       "      <th>3</th>\n",
       "      <td> KING &amp; QUEEN</td>\n",
       "      <td> VA</td>\n",
       "      <td> 37.66986</td>\n",
       "      <td>-76.87746</td>\n",
       "      <td> KING &amp; QUEEN_VA</td>\n",
       "    </tr>\n",
       "    <tr>\n",
       "      <th>4</th>\n",
       "      <td> KING &amp; QUEEN</td>\n",
       "      <td> VA</td>\n",
       "      <td> 37.66986</td>\n",
       "      <td>-76.87746</td>\n",
       "      <td> KING &amp; QUEEN_VA</td>\n",
       "    </tr>\n",
       "  </tbody>\n",
       "</table>\n",
       "</div>"
      ],
      "text/plain": [
       "         county state       lat      long     county_state\n",
       "0      CHEROKEE    GA  34.24000 -84.47000      CHEROKEE_GA\n",
       "1        BARTOW    GA  34.24000 -84.84000        BARTOW_GA\n",
       "2        SUSSEX    VA  36.92093 -77.28034        SUSSEX_VA\n",
       "3  KING & QUEEN    VA  37.66986 -76.87746  KING & QUEEN_VA\n",
       "4  KING & QUEEN    VA  37.66986 -76.87746  KING & QUEEN_VA"
      ]
     },
     "execution_count": 23,
     "metadata": {},
     "output_type": "execute_result"
    }
   ],
   "source": [
    "data_loc = add_county_state_key(data_loc, \"county\", \"state\")\n",
    "data_loc.ix[:,0:2] = data_loc.ix[:,0:2].astype(str)\n",
    "data_loc.ix[:,2:-1] = data_loc.ix[:,2:-1].astype(float)\n",
    "data_loc.head()"
   ]
  },
  {
   "cell_type": "code",
   "execution_count": 24,
   "metadata": {
    "collapsed": false
   },
   "outputs": [
    {
     "data": {
      "text/html": [
       "<div style=\"max-height:1000px;max-width:1500px;overflow:auto;\">\n",
       "<table border=\"1\" class=\"dataframe\">\n",
       "  <thead>\n",
       "    <tr style=\"text-align: right;\">\n",
       "      <th></th>\n",
       "      <th>county</th>\n",
       "      <th>state</th>\n",
       "      <th>0-10037-01-257</th>\n",
       "      <th>0-10040-02-394</th>\n",
       "      <th>0-10044-01-392</th>\n",
       "      <th>0-10048-01-60</th>\n",
       "      <th>0-10051-02-166</th>\n",
       "      <th>0-10054-01-402</th>\n",
       "      <th>0-10067-03-111</th>\n",
       "      <th>0-10079-02-168</th>\n",
       "      <th>0-10112-01-169</th>\n",
       "      <th>0-10113-01-119</th>\n",
       "      <th>0-10116-01-165</th>\n",
       "      <th>0-10151-01-86</th>\n",
       "      <th>0-10162-01-255</th>\n",
       "      <th>...</th>\n",
       "      <th>4033_01</th>\n",
       "      <th>4033_02</th>\n",
       "      <th>4056_01</th>\n",
       "      <th>4056_02</th>\n",
       "      <th>4058_01</th>\n",
       "      <th>4058_02</th>\n",
       "      <th>4093_01</th>\n",
       "      <th>4093_02</th>\n",
       "      <th>4112_01</th>\n",
       "      <th>4112_02</th>\n",
       "      <th>4137_01</th>\n",
       "      <th>4137_02</th>\n",
       "      <th>4181_01</th>\n",
       "      <th>4181_0</th>\n",
       "      <th>county_state</th>\n",
       "    </tr>\n",
       "  </thead>\n",
       "  <tbody>\n",
       "    <tr>\n",
       "      <th>0</th>\n",
       "      <td>     CHEROKEE</td>\n",
       "      <td> GA</td>\n",
       "      <td> G/G</td>\n",
       "      <td> A/C</td>\n",
       "      <td> G/G</td>\n",
       "      <td> A/A</td>\n",
       "      <td> G/G</td>\n",
       "      <td> A/G</td>\n",
       "      <td> A/A</td>\n",
       "      <td> G/G</td>\n",
       "      <td> A/C</td>\n",
       "      <td> A/A</td>\n",
       "      <td> A/A</td>\n",
       "      <td> A/A</td>\n",
       "      <td> A/A</td>\n",
       "      <td>...</td>\n",
       "      <td> 131</td>\n",
       "      <td> 143</td>\n",
       "      <td> 413</td>\n",
       "      <td> 413</td>\n",
       "      <td> 143</td>\n",
       "      <td> 150</td>\n",
       "      <td> 307</td>\n",
       "      <td> 310</td>\n",
       "      <td> 462</td>\n",
       "      <td> 462</td>\n",
       "      <td> 161</td>\n",
       "      <td> 161</td>\n",
       "      <td> 365</td>\n",
       "      <td> 390</td>\n",
       "      <td>     CHEROKEE_GA</td>\n",
       "    </tr>\n",
       "    <tr>\n",
       "      <th>1</th>\n",
       "      <td>       BARTOW</td>\n",
       "      <td> GA</td>\n",
       "      <td> A/A</td>\n",
       "      <td> C/C</td>\n",
       "      <td> G/G</td>\n",
       "      <td> A/A</td>\n",
       "      <td> G/G</td>\n",
       "      <td> A/G</td>\n",
       "      <td> A/A</td>\n",
       "      <td> A/G</td>\n",
       "      <td> A/A</td>\n",
       "      <td> G/G</td>\n",
       "      <td> A/A</td>\n",
       "      <td> A/A</td>\n",
       "      <td> A/A</td>\n",
       "      <td>...</td>\n",
       "      <td>   ?</td>\n",
       "      <td>   ?</td>\n",
       "      <td> 413</td>\n",
       "      <td> 437</td>\n",
       "      <td> 137</td>\n",
       "      <td> 143</td>\n",
       "      <td> 307</td>\n",
       "      <td> 307</td>\n",
       "      <td> 440</td>\n",
       "      <td> 448</td>\n",
       "      <td> 161</td>\n",
       "      <td> 176</td>\n",
       "      <td> 365</td>\n",
       "      <td> 365</td>\n",
       "      <td>       BARTOW_GA</td>\n",
       "    </tr>\n",
       "    <tr>\n",
       "      <th>2</th>\n",
       "      <td>       SUSSEX</td>\n",
       "      <td> VA</td>\n",
       "      <td> A/A</td>\n",
       "      <td> C/C</td>\n",
       "      <td> C/C</td>\n",
       "      <td> G/G</td>\n",
       "      <td> G/G</td>\n",
       "      <td> A/G</td>\n",
       "      <td> A/A</td>\n",
       "      <td> G/G</td>\n",
       "      <td> A/A</td>\n",
       "      <td> A/G</td>\n",
       "      <td> A/A</td>\n",
       "      <td> A/A</td>\n",
       "      <td> A/G</td>\n",
       "      <td>...</td>\n",
       "      <td> 133</td>\n",
       "      <td> 133</td>\n",
       "      <td> 413</td>\n",
       "      <td> 413</td>\n",
       "      <td> 150</td>\n",
       "      <td> 152</td>\n",
       "      <td> 322</td>\n",
       "      <td> 325</td>\n",
       "      <td> 462</td>\n",
       "      <td> 462</td>\n",
       "      <td> 161</td>\n",
       "      <td> 169</td>\n",
       "      <td> 378</td>\n",
       "      <td> 395</td>\n",
       "      <td>       SUSSEX_VA</td>\n",
       "    </tr>\n",
       "    <tr>\n",
       "      <th>3</th>\n",
       "      <td> KING &amp; QUEEN</td>\n",
       "      <td> VA</td>\n",
       "      <td> A/A</td>\n",
       "      <td> A/A</td>\n",
       "      <td> C/C</td>\n",
       "      <td> G/G</td>\n",
       "      <td> A/G</td>\n",
       "      <td> G/G</td>\n",
       "      <td> A/A</td>\n",
       "      <td> G/G</td>\n",
       "      <td> A/A</td>\n",
       "      <td> A/G</td>\n",
       "      <td> A/A</td>\n",
       "      <td> A/A</td>\n",
       "      <td> A/A</td>\n",
       "      <td>...</td>\n",
       "      <td> 133</td>\n",
       "      <td> 152</td>\n",
       "      <td> 413</td>\n",
       "      <td> 413</td>\n",
       "      <td> 146</td>\n",
       "      <td> 154</td>\n",
       "      <td> 307</td>\n",
       "      <td> 325</td>\n",
       "      <td> 460</td>\n",
       "      <td> 462</td>\n",
       "      <td> 163</td>\n",
       "      <td> 190</td>\n",
       "      <td> 390</td>\n",
       "      <td> 417</td>\n",
       "      <td> KING &amp; QUEEN_VA</td>\n",
       "    </tr>\n",
       "    <tr>\n",
       "      <th>4</th>\n",
       "      <td> KING &amp; QUEEN</td>\n",
       "      <td> VA</td>\n",
       "      <td> A/A</td>\n",
       "      <td> A/C</td>\n",
       "      <td> C/C</td>\n",
       "      <td> ?/?</td>\n",
       "      <td> G/G</td>\n",
       "      <td> A/G</td>\n",
       "      <td> A/A</td>\n",
       "      <td> G/G</td>\n",
       "      <td> A/A</td>\n",
       "      <td> A/A</td>\n",
       "      <td> A/A</td>\n",
       "      <td> A/A</td>\n",
       "      <td> ?/?</td>\n",
       "      <td>...</td>\n",
       "      <td>   ?</td>\n",
       "      <td>   ?</td>\n",
       "      <td> 413</td>\n",
       "      <td> 431</td>\n",
       "      <td> 143</td>\n",
       "      <td> 146</td>\n",
       "      <td> 310</td>\n",
       "      <td> 322</td>\n",
       "      <td> 462</td>\n",
       "      <td> 462</td>\n",
       "      <td> 169</td>\n",
       "      <td> 169</td>\n",
       "      <td> 395</td>\n",
       "      <td> 409</td>\n",
       "      <td> KING &amp; QUEEN_VA</td>\n",
       "    </tr>\n",
       "  </tbody>\n",
       "</table>\n",
       "<p>5 rows × 3131 columns</p>\n",
       "</div>"
      ],
      "text/plain": [
       "         county state 0-10037-01-257 0-10040-02-394 0-10044-01-392  \\\n",
       "0      CHEROKEE    GA            G/G            A/C            G/G   \n",
       "1        BARTOW    GA            A/A            C/C            G/G   \n",
       "2        SUSSEX    VA            A/A            C/C            C/C   \n",
       "3  KING & QUEEN    VA            A/A            A/A            C/C   \n",
       "4  KING & QUEEN    VA            A/A            A/C            C/C   \n",
       "\n",
       "  0-10048-01-60 0-10051-02-166 0-10054-01-402 0-10067-03-111 0-10079-02-168  \\\n",
       "0           A/A            G/G            A/G            A/A            G/G   \n",
       "1           A/A            G/G            A/G            A/A            A/G   \n",
       "2           G/G            G/G            A/G            A/A            G/G   \n",
       "3           G/G            A/G            G/G            A/A            G/G   \n",
       "4           ?/?            G/G            A/G            A/A            G/G   \n",
       "\n",
       "  0-10112-01-169 0-10113-01-119 0-10116-01-165 0-10151-01-86 0-10162-01-255  \\\n",
       "0            A/C            A/A            A/A           A/A            A/A   \n",
       "1            A/A            G/G            A/A           A/A            A/A   \n",
       "2            A/A            A/G            A/A           A/A            A/G   \n",
       "3            A/A            A/G            A/A           A/A            A/A   \n",
       "4            A/A            A/A            A/A           A/A            ?/?   \n",
       "\n",
       "        ...        4033_01 4033_02 4056_01 4056_02 4058_01 4058_02 4093_01  \\\n",
       "0       ...            131     143     413     413     143     150     307   \n",
       "1       ...              ?       ?     413     437     137     143     307   \n",
       "2       ...            133     133     413     413     150     152     322   \n",
       "3       ...            133     152     413     413     146     154     307   \n",
       "4       ...              ?       ?     413     431     143     146     310   \n",
       "\n",
       "  4093_02 4112_01 4112_02 4137_01 4137_02 4181_01 4181_0     county_state  \n",
       "0     310     462     462     161     161     365    390      CHEROKEE_GA  \n",
       "1     307     440     448     161     176     365    365        BARTOW_GA  \n",
       "2     325     462     462     161     169     378    395        SUSSEX_VA  \n",
       "3     325     460     462     163     190     390    417  KING & QUEEN_VA  \n",
       "4     322     462     462     169     169     395    409  KING & QUEEN_VA  \n",
       "\n",
       "[5 rows x 3131 columns]"
      ]
     },
     "execution_count": 24,
     "metadata": {},
     "output_type": "execute_result"
    }
   ],
   "source": [
    "data_gt = data_gt.astype(str)\n",
    "data_gt = add_county_state_key(data_gt, \"county\", \"state\")\n",
    "data_gt.head()"
   ]
  },
  {
   "cell_type": "code",
   "execution_count": 38,
   "metadata": {
    "collapsed": true
   },
   "outputs": [],
   "source": [
    "hdf = HDFStoreHelper(\"cfried.hd5\") ##change this to your username!"
   ]
  },
  {
   "cell_type": "code",
   "execution_count": 39,
   "metadata": {
    "collapsed": false
   },
   "outputs": [
    {
     "name": "stdout",
     "output_type": "stream",
     "text": [
      "updating pheno\n"
     ]
    }
   ],
   "source": [
    "hdf.put(\"pheno\", pheno)"
   ]
  },
  {
   "cell_type": "code",
   "execution_count": 40,
   "metadata": {
    "collapsed": false
   },
   "outputs": [
    {
     "name": "stdout",
     "output_type": "stream",
     "text": [
      "updating data_ai\n"
     ]
    }
   ],
   "source": [
    "hdf.put(\"data_ai\", data_ai)"
   ]
  },
  {
   "cell_type": "code",
   "execution_count": 41,
   "metadata": {
    "collapsed": false
   },
   "outputs": [
    {
     "name": "stdout",
     "output_type": "stream",
     "text": [
      "updating data_loc\n"
     ]
    }
   ],
   "source": [
    "hdf.put(\"data_loc\", data_loc)"
   ]
  },
  {
   "cell_type": "code",
   "execution_count": 42,
   "metadata": {
    "collapsed": false
   },
   "outputs": [
    {
     "name": "stdout",
     "output_type": "stream",
     "text": [
      "updating data_gt\n"
     ]
    }
   ],
   "source": [
    "hdf.put(\"data_gt\", data_gt)"
   ]
  },
  {
   "cell_type": "code",
   "execution_count": 43,
   "metadata": {
    "collapsed": true
   },
   "outputs": [],
   "source": [
    "genotypes = data_gt.ix[:,[x for x in data_gt.columns if '-' in x]]"
   ]
  },
  {
   "cell_type": "code",
   "execution_count": 44,
   "metadata": {
    "collapsed": true
   },
   "outputs": [],
   "source": [
    "hdf.put(\"genotypes\", genotypes)"
   ]
  },
  {
   "cell_type": "code",
   "execution_count": 57,
   "metadata": {
    "collapsed": true
   },
   "outputs": [],
   "source": [
    "def is_homozygous(gt):\n",
    "    if len(set([x.strip() for x in gt.split(\"/\")])) == 1:\n",
    "        return True\n",
    "    return False\n",
    "\n",
    "def get_allele_counts(counts):\n",
    "    a = {}\n",
    "    het = 0\n",
    "    for gt in counts.index:\n",
    "        for allele in [x.strip() for x in gt.split(\"/\")]:\n",
    "            if not allele in a:\n",
    "                a[allele] = 0\n",
    "            a[allele] += counts[gt]\n",
    "        if not is_homozygous(gt):\n",
    "            het += counts[gt]\n",
    "    return sorted(a.items(), key=lambda x: x[1], reverse=True), het\n",
    "\n",
    "def get_correction(n):\n",
    "    #for finite sample size\n",
    "    return (2*n)/(2*n-1)\n",
    "\n",
    "def get_allele_freqs(locus):\n",
    "    locus = locus[locus != '?/?']\n",
    "    locus = locus[locus != 'NA']\n",
    "    c = locus.value_counts()\n",
    "    c = c.sort(inplace=False, ascending=False)\n",
    "    allele_counts = get_allele_counts(c)\n",
    "    total_alleles = 2.0*sum(c)\n",
    "    num_individuals = sum(c)\n",
    "    A = \"\"\n",
    "    a = \"\"\n",
    "    P = 0\n",
    "    Q = 0\n",
    "    if len(allele_counts[0]) == 2:\n",
    "        A = allele_counts[0][0][0]\n",
    "        a = allele_counts[0][1][0]\n",
    "        P = allele_counts[0][0][1]\n",
    "        Q = allele_counts[0][1][1]\n",
    "    else:\n",
    "        A = allele_counts[0][0][0]\n",
    "        P = P = allele_counts[0][0][1]\n",
    "    PQ = allele_counts[-1]\n",
    "    p = P/total_alleles\n",
    "    q = Q/total_alleles\n",
    "    assert p + q == 1.0\n",
    "    He = 2 * p * q * get_correction(num_individuals)\n",
    "    Ho = PQ*1.0/num_individuals\n",
    "    Fis = 1 - (Ho/He)\n",
    "    #print p, q, He, Ho, Fis\n",
    "    ret = pd.Series({\"p\":p, \n",
    "                      \"q\":q,\n",
    "                      \"P\":P,\n",
    "                      \"Q\":Q,\n",
    "                      \"He\":He,\n",
    "                      \"Ho\":Ho, \n",
    "                      \"Fis\":Fis,\n",
    "                    \"PQ\": PQ,\n",
    "                    \"total_alleles\":total_alleles,\n",
    "                    \"num_indiv\":num_individuals,\n",
    "                    \"A\":A,\n",
    "                    \"a\":a})\n",
    "    return ret\n",
    "\n",
    "def plot_hist(df, index):\n",
    "    d = df.ix[index,:]\n",
    "    plt.hist(d, bins=20)\n",
    "    plt.title(\"%s %.2f $\\pm$ %.3f [%.2f, %.2f]\" % (index, \n",
    "                                                   np.mean(d), \n",
    "                                                   np.std(d),\n",
    "                                                  np.min(d),\n",
    "                                                  np.max(d)))\n",
    "    \n",
    "def convert_to_z12(locus):\n",
    "    freq = af[locus.name]\n",
    "    trans = {\"%s/%s\" % (freq[\"A\"],freq[\"A\"]): 0,\n",
    "            \"%s/%s\" % (freq[\"a\"],freq[\"a\"]): 2,\n",
    "            \"%s/%s\" % (freq[\"A\"],freq[\"a\"]): 1,\n",
    "            \"%s/%s\" % (freq[\"a\"],freq[\"A\"]): 1,\n",
    "            \"?/?\":-1}\n",
    "    return locus.apply(lambda x: trans[x])\n",
    "\n",
    "def center_and_standardize_value(val, u, var):\n",
    "    if val == -1:\n",
    "        return 0.0\n",
    "    return (val-u)/np.sqrt(var)\n",
    "\n",
    "def center_and_standardize(snp):\n",
    "    maf = af.ix[\"q\",snp.name]\n",
    "    u = np.mean([x for x in snp if x != -1])\n",
    "    var = np.sqrt(maf*(1-maf))\n",
    "    return snp.apply(center_and_standardize_value, args=(u, var))"
   ]
  },
  {
   "cell_type": "code",
   "execution_count": 46,
   "metadata": {
    "collapsed": true
   },
   "outputs": [],
   "source": [
    "af = genotypes.apply(get_allele_freqs)"
   ]
  },
  {
   "cell_type": "code",
   "execution_count": 51,
   "metadata": {
    "collapsed": false
   },
   "outputs": [
    {
     "name": "stdout",
     "output_type": "stream",
     "text": [
      "updating af\n"
     ]
    }
   ],
   "source": [
    "hdf.put(\"af\", af)"
   ]
  },
  {
   "cell_type": "code",
   "execution_count": 53,
   "metadata": {
    "collapsed": false
   },
   "outputs": [
    {
     "data": {
      "image/png": "[encoded data removed]",
      "text/plain": [
       "<matplotlib.figure.Figure at 0x7fe233e81c10>"
      ]
     },
     "metadata": {},
     "output_type": "display_data"
    }
   ],
   "source": [
    "plot_hist(af, \"Fis\")"
   ]
  },
  {
   "cell_type": "code",
   "execution_count": 55,
   "metadata": {
    "collapsed": true
   },
   "outputs": [],
   "source": [
    "z12 = genotypes.apply(convert_to_z12)"
   ]
  },
  {
   "cell_type": "code",
   "execution_count": 56,
   "metadata": {
    "collapsed": true
   },
   "outputs": [],
   "source": [
    "hdf.put(\"z12\", z12)"
   ]
  },
  {
   "cell_type": "code",
   "execution_count": 58,
   "metadata": {
    "collapsed": true
   },
   "outputs": [],
   "source": [
    "pca_std = z12.apply(center_and_standardize)"
   ]
  },
  {
   "cell_type": "code",
   "execution_count": 59,
   "metadata": {
    "collapsed": true
   },
   "outputs": [],
   "source": [
    "hdf.put(\"pca_std\", pca_std)"
   ]
  },
  {
   "cell_type": "code",
   "execution_count": null,
   "metadata": {
    "collapsed": true
   },
   "outputs": [],
   "source": []
  }
 ],
 "metadata": {
  "kernelspec": {
   "display_name": "Python 2",
   "language": "python",
   "name": "python2"
  },
  "language_info": {
   "codemirror_mode": {
    "name": "ipython",
    "version": 2
   },
   "file_extension": ".py",
   "mimetype": "text/x-python",
   "name": "python",
   "nbconvert_exporter": "python",
   "pygments_lexer": "ipython2",
   "version": "2.7.9"
  }
 },
 "nbformat": 4,
 "nbformat_minor": 0
}
