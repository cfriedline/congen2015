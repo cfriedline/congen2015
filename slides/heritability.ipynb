{
 "metadata": {
  "gist_id": "96f92cef075385ea4d55",
  "name": "",
  "signature": "sha256:28c03044e59db755b180fdb9b183a23e10e68a782ea8cdce7b203cdf6dc6041a"
 },
 "nbformat": 3,
 "nbformat_minor": 0,
 "worksheets": [
  {
   "cells": [
    {
     "cell_type": "code",
     "collapsed": false,
     "input": [
      "import numpy as np\n",
      "import scipy as sp\n",
      "import pandas as pd\n",
      "import statsmodels as sm\n",
      "import matplotlib.pyplot as plt"
     ],
     "language": "python",
     "metadata": {},
     "outputs": []
    },
    {
     "cell_type": "code",
     "collapsed": false,
     "input": [
      "%matplotlib inline\n",
      "import seaborn as sns\n",
      "sns.set_style(\"white\")\n",
      "sns.set_context(\"talk\", font_scale=1.25)"
     ],
     "language": "python",
     "metadata": {},
     "outputs": []
    },
    {
     "cell_type": "code",
     "collapsed": false,
     "input": [
      "mean = 50\n",
      "sd = 15"
     ],
     "language": "python",
     "metadata": {},
     "outputs": []
    },
    {
     "cell_type": "code",
     "collapsed": false,
     "input": [
      "parent_heights = sp.random.normal(loc=mean, scale=sd, size=5000)\n",
      "selected_parents = [x for x in parent_heights if x > 60]\n",
      "len(selected_parents)"
     ],
     "language": "python",
     "metadata": {},
     "outputs": []
    },
    {
     "cell_type": "code",
     "collapsed": false,
     "input": [
      "def plot_hist(d, title):\n",
      "    plt.hist(d)\n",
      "    plt.title(title)\n",
      "    sns.despine()\n",
      "    plt.show()"
     ],
     "language": "python",
     "metadata": {},
     "outputs": []
    },
    {
     "cell_type": "code",
     "collapsed": false,
     "input": [
      "plot_hist(parent_heights, \"Parents\")\n",
      "plot_hist(selected_parents, \"Selected\")"
     ],
     "language": "python",
     "metadata": {},
     "outputs": []
    },
    {
     "cell_type": "code",
     "collapsed": false,
     "input": [
      "h2 = 0.7\n",
      "offspring_heights = []\n",
      "for p in selected_parents:\n",
      "    r = sp.random.random()\n",
      "    if r < h2:\n",
      "        if sp.random.random() > 0.5:\n",
      "            offspring_heights.append(p + p*sp.random.uniform(0, 0.25))\n",
      "        else:\n",
      "            offspring_heights.append(p - p*sp.random.uniform(0, 0.25))\n",
      "    else:\n",
      "        offspring_heights.append(sp.random.normal(scale=scale, loc=loc))"
     ],
     "language": "python",
     "metadata": {},
     "outputs": []
    },
    {
     "cell_type": "code",
     "collapsed": false,
     "input": [
      "plot_hist(offspring_heights, \"Offspring\")\n"
     ],
     "language": "python",
     "metadata": {},
     "outputs": []
    },
    {
     "cell_type": "code",
     "collapsed": false,
     "input": [
      "reg = sp.stats.linregress(selected_parents, \n",
      "                          offspring_heights)\n",
      "print reg\n",
      "slope, intercept, r_value, p_value, std_err = reg"
     ],
     "language": "python",
     "metadata": {},
     "outputs": []
    },
    {
     "cell_type": "code",
     "collapsed": false,
     "input": [
      "plt.scatter(selected_parents, offspring_heights)\n",
      "plt.xlabel(\"Parent height (cm)\")\n",
      "plt.ylabel(\"Offpring height (cm)\")\n",
      "plt.title(\"y=%.5fx + %.5f ($r^2$ = %.2f, $p$ = %.5f), n=%d\" % (slope, \n",
      "                                                         intercept, \n",
      "                                                         r_value**2,\n",
      "                                                         p_value,\n",
      "                                                         len(offspring_heights)))\n",
      "plt.plot(parent_heights,parent_heights*slope+intercept, 'r-')\n",
      "sns.despine()\n",
      "plt.show()"
     ],
     "language": "python",
     "metadata": {},
     "outputs": []
    },
    {
     "cell_type": "markdown",
     "metadata": {},
     "source": [
      "$R = h^2S$"
     ]
    },
    {
     "cell_type": "code",
     "collapsed": false,
     "input": [
      "S = np.mean(selected_parents)-np.mean(parent_heights)\n",
      "S"
     ],
     "language": "python",
     "metadata": {},
     "outputs": []
    },
    {
     "cell_type": "code",
     "collapsed": false,
     "input": [
      "R = slope*S\n",
      "R"
     ],
     "language": "python",
     "metadata": {},
     "outputs": []
    },
    {
     "cell_type": "code",
     "collapsed": false,
     "input": [
      "new_mean = np.mean(parent_heights) + R\n",
      "new_mean"
     ],
     "language": "python",
     "metadata": {},
     "outputs": []
    }
   ],
   "metadata": {}
  }
 ]
}